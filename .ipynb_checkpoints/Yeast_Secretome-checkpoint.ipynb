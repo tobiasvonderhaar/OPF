{
 "cells": [
  {
   "cell_type": "markdown",
   "metadata": {},
   "source": [
    "<h1>Analysis of the Pdi1p substrate proteome in yeast</h1>\n",
    "<p>The aim of this analysis is the estimation of the number of disulfide bonds processed by the oxidative folding pathway (OPF) in yeast under standard growth conditions (YPD or SC, 30&deg;C). This potentially includes disulfide bonds in all proteins passing through the ER, ie proteins with final destinations in the ER, Golgi, Endosome, Vacuole, cell wall, or extracellular space.</p>\n",
    "<h2>Identification of relevant gene products</h2>\n",
    "<p>The main data source to identify this set of proteins is Wiederholt <i>et al.</i> (2010), who review and summarise information on mass spec-based subcellular localisation experiments from 18 different pre-2010 studies. A number of later studies are used to complete this set.</p>\n",
    "<table>\n",
    "    <tr>\n",
    "        <th>Location</th>\n",
    "        <th>Reference</th>\n",
    "        <th>Dataset</th>\n",
    "    </tr>\n",
    "    <tr>\n",
    "        <td>All</td>\n",
    "        <td><a href=\"https://www.ncbi.nlm.nih.gov/pmc/articles/PMC2849710/\" tagret=_blank>Wiederholt <i>et al.</i> 2010</a></td>\n",
    "        <td><a href=\"https://www.ncbi.nlm.nih.gov/pmc/articles/PMC2849710/bin/supp_R900002-MCP200_ST2.xls\" target=_blank>Supplemental Table  S2</a></td>\n",
    "    </tr>   \n",
    "    <tr>\n",
    "        <td>Tubular ER</td>\n",
    "        <td><a href=\"https://elifesciences.org/articles/23816\" target=_blank>Wang <i>et al.</i> 2017</a></td>\n",
    "        <td><a href=\"https://elifesciences.org/download/aHR0cHM6Ly9jZG4uZWxpZmVzY2llbmNlcy5vcmcvYXJ0aWNsZXMvMjM4MTYvZWxpZmUtMjM4MTYtZmlnMy1kYXRhMy12Mi54bHN4/elife-23816-fig3-data3-v2.xlsx?_hash=sDEEHMP7tu5HySCb5TBd4t0h0tq%2F7T9eieWkX%2FB8DgY%3D\" target=_blank>Source data 3 for Figure 3</a></td>\n",
    "    </tr>\n",
    "    <tr>\n",
    "        <td>Post Golgi Vesicles</td>\n",
    "        <td><a href=\"https://www.ncbi.nlm.nih.gov/pmc/articles/PMC3926324/\" target=_blank>Forsmark <i>et al.</i> 2011</a></td>\n",
    "        <td><a href=\"https://www.ncbi.nlm.nih.gov/pmc/articles/PMC3926324/table/T2/\" target=_blank>Table 2</a></td>\n",
    "    </tr>\n",
    "    <tr>\n",
    "        <td>Cell Wall</td>\n",
    "        <td><a href=\"https://www.ncbi.nlm.nih.gov/pmc/articles/PMC4535956/\" target=_blank>Hsu <i>et al.</i> 2015</a></td>\n",
    "        <td><a href=\"https://www.ncbi.nlm.nih.gov/pmc/articles/PMC4535956/table/pone.0135174.t001/\" target=_blank>Table 1</a></td>\n",
    "    </tr>\n",
    "    <tr>\n",
    "        <td>Secreted</td>\n",
    "        <td><a href=\"https://pubs.acs.org/doi/full/10.1021/acs.jproteome.6b00953\" target=_blank>Smeekens <i>et al.</i> 2017</a></td>\n",
    "        <td><a href=\"http://pubs.acs.org/doi/suppl/10.1021/acs.jproteome.6b00953/suppl_file/pr6b00953_si_002.xlsx\" target=_blank>Supplemental Table S1</a></td>\n",
    "    </tr>\n",
    "</table>\n",
    "<p>Source data are mostly available as .xls files. The Wiederholt <i>et al.</i> set was downloaded and proteins with relevant annotations manually extracted. All other data were downloaded and file names in the datasets added to the reference set if not already contained there.</p>"
   ]
  },
  {
   "cell_type": "markdown",
   "metadata": {},
   "source": [
    "<h2>Gene expression parameters</h2>\n",
    "<p>ORF names in the PDI substrate set were used to look up the number of Cys residues per gene in <a href=\"https://yeastmine.yeastgenome.org/\" target=_blank>Yeastmine</a>. Intracellular protein abundance data were imported from the curated dataset by <a href=\"https://www.sciencedirect.com/science/article/pii/S240547121730546X?via%3Dihub\" target=_blank>Ho <i>et al.</i> 2018</a> (table S4, \"mean molecules per cell\"). Protein turnover rates (which in the measured form should also account for export rates) were from <a href=\"http://www.cell.com/cell-reports/fulltext/S2211-1247(14)00934-6?\" target=_blank>Christiano <i>et al.</i> 2014</a> (<a href=\"http://www.cell.com/cms/attachment/2078098308/2070960584/mmc2.xlsx\" target=_blank>table S1</a>,\"Degradation rates (min-1))\".</p>\n",
    "<p>Overall this analysis identified 859 potential substrates for PDI, of which 829 had associated protein abundance information and 622 had experimentally measured protein turnover information. Genes without associated abundance information were discarded (none of these had associated turnover information, indicating that these are genuinely low abundance proteins). For proteins with abundance information but without turnover information, the median turnover of proteins with turnover information was substituted.</p>\n",
    "<p>The combined dataset is saved in file '<a href=\"https://github.com/tobiasvonderhaar/OPF/blob/master/PDI_substrates.csv\" target=_blank>PDI_substrates.csv</a>'.</p>"
   ]
  },
  {
   "cell_type": "code",
   "execution_count": 1,
   "metadata": {
    "collapsed": true
   },
   "outputs": [],
   "source": [
    "import pandas as pd\n",
    "dataset = pd.read_csv('PDI_substrates.csv')"
   ]
  },
  {
   "cell_type": "markdown",
   "metadata": {},
   "source": [
    "<h2>Calculation of Oxidation rates</h2>\n",
    "<p>Overall rates of cysteine oxidation (in disulfides per minute) were calculated as\n",
    "$$k_{Cys} = \\sum_{i=1}^{n} A_i \\cdot \\left \\lfloor \\frac{Cys_i}{2} \\right \\rfloor \\cdot  \\big(k_i + \\frac{\\ln{2}}{t_d}\\big)$$\n",
    "where A<sub>i</sub> is the abundance of the <i>i</i>th protein and Cys<sub>i</sub> is the number of cysteines it contains, k<sub>i</sub> its degradation rate, and t<sub>d</sub> the doubling time of the growing culture (assumed to be 120 minutes, typical for lab strains grown in minimal medium). It is assumed that only even numbers of cysteines can be oxidised.</p>"
   ]
  },
  {
   "cell_type": "code",
   "execution_count": 2,
   "metadata": {},
   "outputs": [
    {
     "name": "stdout",
     "output_type": "stream",
     "text": [
      "At a growth rate of 120 minutes, yeast PDI catalyses 269189.2 disulfide bonds per minute\n"
     ]
    }
   ],
   "source": [
    "import math\n",
    "\n",
    "#calculate cys oxidation rates for each gene\n",
    "cystines_per_minute = []\n",
    "growth_rate = 120\n",
    "for row in range(dataset.shape[0]):\n",
    "    gene = dataset.iloc[row,:]\n",
    "    cysrate = gene['proteins_per_cell'] * math.floor(gene['Cys'] / 2) * (gene['degradation'] + (math.log(2) / growth_rate))\n",
    "    cystines_per_minute.append(cysrate)\n",
    "print('At a growth rate of ' + str(growth_rate) + ' minutes, yeast PDI catalyses ' + str(round(sum(cystines_per_minute),1)) + ' disulfide bonds per minute')"
   ]
  },
  {
   "cell_type": "markdown",
   "metadata": {
    "collapsed": true
   },
   "source": [
    "<h2>PDI/ERO concentrations</h2>\n",
    "<p>The total volume of the yeast ER (including 3 subtypes wich are all ribosome bound, so likely all contain Pdi1 and Ero1) has been reported as 0.2-0.4 &mu;m<sup>3</sup> (<a href=\"http://jcb.rupress.org/content/193/2/333\" target=_blank>West <i>et al.</i> 2014</a>). This can be used to convert the Pdi1 and Ero1 concentrations from Christiano <i>et al.</i> (28,000 and 5,200, respectively) to intracellular concentrations.\n",
    "</p>"
   ]
  },
  {
   "cell_type": "code",
   "execution_count": 11,
   "metadata": {},
   "outputs": [
    {
     "name": "stdout",
     "output_type": "stream",
     "text": [
      "PDI concentration = 154.96153633294594 uM, ERO concentration = 28.77857103326139 uM.\n"
     ]
    }
   ],
   "source": [
    "#convert um^3 to litres: factor of 10^9 for conversion to mm^3,then 10^6 for conversion to litres\n",
    "ER_litres = 0.3*1e-9*1e-6\n",
    "PDI_molec = 28000\n",
    "ERO_molec = 5200\n",
    "Avogadro = 6.023e23\n",
    "#conversion molecules per cell to concentration (in uM):\n",
    "#molec / avogadro / volume * 1e6\n",
    "PDI_conc = PDI_molec / Avogadro / ER_litres * 1e6\n",
    "ERO_conc = ERO_molec / Avogadro / ER_litres * 1e6\n",
    "\n",
    "print('PDI concentration = ' + str(PDI_conc) + ' uM, ERO concentration = ' + str(ERO_conc) + ' uM.')"
   ]
  },
  {
   "cell_type": "code",
   "execution_count": null,
   "metadata": {},
   "outputs": [],
   "source": []
  },
  {
   "cell_type": "code",
   "execution_count": null,
   "metadata": {
    "collapsed": true
   },
   "outputs": [],
   "source": []
  }
 ],
 "metadata": {
  "kernelspec": {
   "display_name": "Python 3",
   "language": "python",
   "name": "python3"
  },
  "language_info": {
   "codemirror_mode": {
    "name": "ipython",
    "version": 3
   },
   "file_extension": ".py",
   "mimetype": "text/x-python",
   "name": "python",
   "nbconvert_exporter": "python",
   "pygments_lexer": "ipython3",
   "version": "3.6.3"
  }
 },
 "nbformat": 4,
 "nbformat_minor": 2
}

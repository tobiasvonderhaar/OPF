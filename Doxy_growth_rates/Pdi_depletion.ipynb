{
 "cells": [
  {
   "cell_type": "code",
   "execution_count": 1,
   "metadata": {},
   "outputs": [],
   "source": [
    "import pandas as pd\n",
    "import matplotlib.pyplot as plt\n",
    "import seaborn as sns\n",
    "import numpy as np\n",
    "from pylab import rcParams\n",
    "\n",
    "%run GR"
   ]
  },
  {
   "cell_type": "code",
   "execution_count": 2,
   "metadata": {},
   "outputs": [
    {
     "data": {
      "text/html": [
       "<div>\n",
       "<style>\n",
       "    .dataframe thead tr:only-child th {\n",
       "        text-align: right;\n",
       "    }\n",
       "\n",
       "    .dataframe thead th {\n",
       "        text-align: left;\n",
       "    }\n",
       "\n",
       "    .dataframe tbody tr th {\n",
       "        vertical-align: top;\n",
       "    }\n",
       "</style>\n",
       "<table border=\"1\" class=\"dataframe\">\n",
       "  <thead>\n",
       "    <tr style=\"text-align: right;\">\n",
       "      <th></th>\n",
       "      <th>Rel_GR</th>\n",
       "    </tr>\n",
       "    <tr>\n",
       "      <th>Plasmid</th>\n",
       "      <th></th>\n",
       "    </tr>\n",
       "  </thead>\n",
       "  <tbody>\n",
       "    <tr>\n",
       "      <th>R+0.02</th>\n",
       "      <td>0.985906</td>\n",
       "    </tr>\n",
       "    <tr>\n",
       "      <th>R+0.1</th>\n",
       "      <td>0.988050</td>\n",
       "    </tr>\n",
       "    <tr>\n",
       "      <th>R1158</th>\n",
       "      <td>1.000000</td>\n",
       "    </tr>\n",
       "    <tr>\n",
       "      <th>Tet+0.02</th>\n",
       "      <td>0.791907</td>\n",
       "    </tr>\n",
       "    <tr>\n",
       "      <th>Tet+0.1</th>\n",
       "      <td>0.236332</td>\n",
       "    </tr>\n",
       "    <tr>\n",
       "      <th>Tet-pdi1</th>\n",
       "      <td>0.872701</td>\n",
       "    </tr>\n",
       "  </tbody>\n",
       "</table>\n",
       "</div>"
      ],
      "text/plain": [
       "            Rel_GR\n",
       "Plasmid           \n",
       "R+0.02    0.985906\n",
       "R+0.1     0.988050\n",
       "R1158     1.000000\n",
       "Tet+0.02  0.791907\n",
       "Tet+0.1   0.236332\n",
       "Tet-pdi1  0.872701"
      ]
     },
     "execution_count": 2,
     "metadata": {},
     "output_type": "execute_result"
    }
   ],
   "source": [
    "#read in raw data and extract mean growth rates\n",
    "GDats = process_GR('Emma Tet Strains.csv', starting_row=0, normalise=True, control_condition=\"R1158\")\n",
    "GDats.groupby('Plasmid').mean()"
   ]
  },
  {
   "cell_type": "code",
   "execution_count": 8,
   "metadata": {},
   "outputs": [
    {
     "data": {
      "text/html": [
       "<div>\n",
       "<style>\n",
       "    .dataframe thead tr:only-child th {\n",
       "        text-align: right;\n",
       "    }\n",
       "\n",
       "    .dataframe thead th {\n",
       "        text-align: left;\n",
       "    }\n",
       "\n",
       "    .dataframe tbody tr th {\n",
       "        vertical-align: top;\n",
       "    }\n",
       "</style>\n",
       "<table border=\"1\" class=\"dataframe\">\n",
       "  <thead>\n",
       "    <tr style=\"text-align: right;\">\n",
       "      <th></th>\n",
       "      <th>Plasmid</th>\n",
       "      <th>Conc</th>\n",
       "      <th>Rel_GR</th>\n",
       "    </tr>\n",
       "  </thead>\n",
       "  <tbody>\n",
       "    <tr>\n",
       "      <th>4</th>\n",
       "      <td>Tet-pdi1</td>\n",
       "      <td>0.00</td>\n",
       "      <td>0.866178</td>\n",
       "    </tr>\n",
       "    <tr>\n",
       "      <th>5</th>\n",
       "      <td>Tet-pdi1</td>\n",
       "      <td>0.00</td>\n",
       "      <td>0.864204</td>\n",
       "    </tr>\n",
       "    <tr>\n",
       "      <th>6</th>\n",
       "      <td>Tet-pdi1</td>\n",
       "      <td>0.00</td>\n",
       "      <td>0.879123</td>\n",
       "    </tr>\n",
       "    <tr>\n",
       "      <th>7</th>\n",
       "      <td>Tet-pdi1</td>\n",
       "      <td>0.00</td>\n",
       "      <td>0.881300</td>\n",
       "    </tr>\n",
       "    <tr>\n",
       "      <th>8</th>\n",
       "      <td>Tet+0.02</td>\n",
       "      <td>0.02</td>\n",
       "      <td>0.780713</td>\n",
       "    </tr>\n",
       "  </tbody>\n",
       "</table>\n",
       "</div>"
      ],
      "text/plain": [
       "    Plasmid  Conc    Rel_GR\n",
       "4  Tet-pdi1  0.00  0.866178\n",
       "5  Tet-pdi1  0.00  0.864204\n",
       "6  Tet-pdi1  0.00  0.879123\n",
       "7  Tet-pdi1  0.00  0.881300\n",
       "8  Tet+0.02  0.02  0.780713"
      ]
     },
     "execution_count": 8,
     "metadata": {},
     "output_type": "execute_result"
    }
   ],
   "source": [
    "GDats = pd.read_csv('TetPdiGrowth.csv')\n",
    "GDats_plot = GDats.loc[GDats['Plasmid'] != 'R1158']\n",
    "GDats_plot.head()"
   ]
  },
  {
   "cell_type": "code",
   "execution_count": 9,
   "metadata": {
    "scrolled": true
   },
   "outputs": [
    {
     "data": {
      "image/png": "[encoded data removed]",
      "text/plain": [
       "<matplotlib.figure.Figure at 0x7ff80961a588>"
      ]
     },
     "metadata": {
      "needs_background": "light"
     },
     "output_type": "display_data"
    }
   ],
   "source": [
    "plt.close()\n",
    "ax = sns.swarmplot(x='Plasmid', y='Rel_GR', data=GDats)\n",
    "plt.ylim(0,1.1)\n",
    "plt.savefig('relpdi.svg')\n",
    "plt.show()"
   ]
  },
  {
   "cell_type": "code",
   "execution_count": 10,
   "metadata": {},
   "outputs": [
    {
     "data": {
      "image/png": "[encoded data removed]",
      "text/plain": [
       "<matplotlib.figure.Figure at 0x7ff80961a4e0>"
      ]
     },
     "metadata": {
      "needs_background": "light"
     },
     "output_type": "display_data"
    }
   ],
   "source": [
    "plt.close()\n",
    "f, ax = plt.subplots(figsize=(4,4))\n",
    "ax.set_xscale(\"log\")\n",
    "ax.scatter(x = 'Conc', y = 'Rel_GR', data = GDats_plot, s = 40, facecolors = 'none', edgecolors = 'black')\n",
    "ax.set(ylim=(0,1),xlim = (0.01,10), ylabel='Growth rate (relative to R1158)', xlabel = r'Doxycycline ($\\mu$g/ml)')\n",
    "plt.savefig('Pdiconcs.svg')\n",
    "plt.show()"
   ]
  },
  {
   "cell_type": "code",
   "execution_count": 7,
   "metadata": {},
   "outputs": [
    {
     "data": {
      "text/plain": [
       "0       R1158\n",
       "1    Tet-pdi1\n",
       "2      R+0.02\n",
       "3    Tet+0.02\n",
       "4       R+0.1\n",
       "5     Tet+0.1\n",
       "Name: Sample, dtype: object"
      ]
     },
     "execution_count": 7,
     "metadata": {},
     "output_type": "execute_result"
    }
   ],
   "source": [
    "raw = pd.read_csv('Emma Tet Strains.csv')\n",
    "raw['Sample'][0:6]"
   ]
  },
  {
   "cell_type": "code",
   "execution_count": 16,
   "metadata": {},
   "outputs": [],
   "source": [
    "# define the number last time point to use (the last time used in hours = end /2)\n",
    "end = 35\n",
    "#extract data for conditions of interest and average all data for that condition\n",
    "x = [float(i) for i in list(raw.columns[4:end])]\n",
    "wt = raw.loc[raw['Sample'] == 'R1158'].iloc[:,4:end].mean()\n",
    "Tet0 = raw.loc[raw['Sample'] == 'Tet-pdi1'].iloc[:,4:end].mean()\n",
    "Tet20 = raw.loc[raw['Sample'] == 'Tet+0.02'].iloc[:,4:end].mean()\n",
    "Tet100 = raw.loc[raw['Sample'] == 'Tet+0.1'].iloc[:,4:end].mean()\n",
    "\n",
    "# normalise all growth curves to the same starting oD \n",
    "refoD = min(wt[0],Tet0[0],Tet20[0], Tet100[0])\n",
    "wt = wt - (wt[0] - refoD)\n",
    "Tet0 = Tet0 - (Tet0[0] - refoD)\n",
    "Tet20 = Tet20 - (Tet20[0] - refoD)\n",
    "Tet100 = Tet100 - (Tet100[0] - refoD)"
   ]
  },
  {
   "cell_type": "code",
   "execution_count": 31,
   "metadata": {},
   "outputs": [
    {
     "data": {
      "image/png": "[encoded data removed]",
      "text/plain": [
       "<matplotlib.figure.Figure at 0x7f819fb53a90>"
      ]
     },
     "metadata": {
      "needs_background": "light"
     },
     "output_type": "display_data"
    }
   ],
   "source": [
    "plt.close()\n",
    "size = 30\n",
    "plt.scatter(x=x,y=wt, marker = 'o', c='black', s=size)\n",
    "plt.scatter(x=x,y=Tet0, marker = 'x', c='black', s=size)\n",
    "plt.scatter(x=x,y=Tet20, marker = '^', c='black', s=size)\n",
    "plt.scatter(x=x,y=Tet100, marker = 's', c='black', s=size)\n",
    "plt.yscale(\"log\")\n",
    "plt.ylim(0.1,10)\n",
    "rcParams['figure.figsize'] = 6,8\n",
    "plt.savefig('TetPDI1.svg')\n",
    "plt.show()"
   ]
  },
  {
   "cell_type": "code",
   "execution_count": null,
   "metadata": {},
   "outputs": [],
   "source": []
  },
  {
   "cell_type": "code",
   "execution_count": null,
   "metadata": {
    "collapsed": true
   },
   "outputs": [],
   "source": []
  }
 ],
 "metadata": {
  "kernelspec": {
   "display_name": "Python 3",
   "language": "python",
   "name": "python3"
  },
  "language_info": {
   "codemirror_mode": {
    "name": "ipython",
    "version": 3
   },
   "file_extension": ".py",
   "mimetype": "text/x-python",
   "name": "python",
   "nbconvert_exporter": "python",
   "pygments_lexer": "ipython3",
   "version": "3.6.6"
  }
 },
 "nbformat": 4,
 "nbformat_minor": 2
}

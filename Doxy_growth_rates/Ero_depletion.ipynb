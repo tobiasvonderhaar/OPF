{
 "cells": [
  {
   "cell_type": "code",
   "execution_count": 1,
   "metadata": {},
   "outputs": [],
   "source": [
    "import pandas as pd\n",
    "import matplotlib.pyplot as plt\n",
    "import seaborn as sns\n",
    "import numpy as np\n",
    "from pylab import rcParams\n",
    "\n",
    "%run GR"
   ]
  },
  {
   "cell_type": "code",
   "execution_count": 3,
   "metadata": {},
   "outputs": [],
   "source": [
    "#read in raw data and extract mean growth rates\n",
    "GDats1 = process_GR('181002 TetERO1.csv', starting_row=0, normalise=True, control_condition=\"R1158\")\n",
    "GDats2 = process_GR('181015 TetERO1.csv', starting_row=0, normalise=True, control_condition=\"R1158\")"
   ]
  },
  {
   "cell_type": "code",
   "execution_count": 2,
   "metadata": {},
   "outputs": [
    {
     "data": {
      "text/html": [
       "<div>\n",
       "<style>\n",
       "    .dataframe thead tr:only-child th {\n",
       "        text-align: right;\n",
       "    }\n",
       "\n",
       "    .dataframe thead th {\n",
       "        text-align: left;\n",
       "    }\n",
       "\n",
       "    .dataframe tbody tr th {\n",
       "        vertical-align: top;\n",
       "    }\n",
       "</style>\n",
       "<table border=\"1\" class=\"dataframe\">\n",
       "  <thead>\n",
       "    <tr style=\"text-align: right;\">\n",
       "      <th></th>\n",
       "      <th>Plasmid</th>\n",
       "      <th>Conc</th>\n",
       "      <th>Rel_GR</th>\n",
       "    </tr>\n",
       "  </thead>\n",
       "  <tbody>\n",
       "    <tr>\n",
       "      <th>8</th>\n",
       "      <td>Tet-ERO1</td>\n",
       "      <td>0.0</td>\n",
       "      <td>1.021831</td>\n",
       "    </tr>\n",
       "    <tr>\n",
       "      <th>9</th>\n",
       "      <td>Tet-ERO1</td>\n",
       "      <td>0.0</td>\n",
       "      <td>1.011155</td>\n",
       "    </tr>\n",
       "    <tr>\n",
       "      <th>10</th>\n",
       "      <td>Tet-ERO1</td>\n",
       "      <td>0.0</td>\n",
       "      <td>0.977552</td>\n",
       "    </tr>\n",
       "    <tr>\n",
       "      <th>11</th>\n",
       "      <td>Tet-ERO1</td>\n",
       "      <td>0.0</td>\n",
       "      <td>0.985937</td>\n",
       "    </tr>\n",
       "    <tr>\n",
       "      <th>12</th>\n",
       "      <td>Tet-ERO1</td>\n",
       "      <td>0.0</td>\n",
       "      <td>0.892833</td>\n",
       "    </tr>\n",
       "  </tbody>\n",
       "</table>\n",
       "</div>"
      ],
      "text/plain": [
       "     Plasmid  Conc    Rel_GR\n",
       "8   Tet-ERO1   0.0  1.021831\n",
       "9   Tet-ERO1   0.0  1.011155\n",
       "10  Tet-ERO1   0.0  0.977552\n",
       "11  Tet-ERO1   0.0  0.985937\n",
       "12  Tet-ERO1   0.0  0.892833"
      ]
     },
     "execution_count": 2,
     "metadata": {},
     "output_type": "execute_result"
    }
   ],
   "source": [
    "GDats = pd.read_csv('TetEroGrowth.csv')\n",
    "GDats_plot = GDats.loc[GDats['Plasmid'] != 'R1158']\n",
    "GDats_plot.head()"
   ]
  },
  {
   "cell_type": "code",
   "execution_count": 14,
   "metadata": {},
   "outputs": [
    {
     "data": {
      "image/png": "[encoded data removed]",
      "text/plain": [
       "<matplotlib.figure.Figure at 0x1a2c319fb70>"
      ]
     },
     "metadata": {},
     "output_type": "display_data"
    }
   ],
   "source": [
    "plt.close()\n",
    "ax = sns.swarmplot(x='Conc', y='Rel_GR', data=GDats_plot)\n",
    "plt.ylim(0,1.1)\n",
    "plt.savefig('relero1.svg')\n",
    "plt.show()"
   ]
  },
  {
   "cell_type": "code",
   "execution_count": 4,
   "metadata": {},
   "outputs": [
    {
     "data": {
      "image/png": "[encoded data removed]",
      "text/plain": [
       "<matplotlib.figure.Figure at 0x7f28cfc5cd30>"
      ]
     },
     "metadata": {
      "needs_background": "light"
     },
     "output_type": "display_data"
    }
   ],
   "source": [
    "plt.close()\n",
    "f, ax = plt.subplots(figsize=(4,4))\n",
    "ax.set_xscale(\"log\")\n",
    "ax.scatter(x = 'Conc', y = 'Rel_GR', data = GDats_plot, s = 40, facecolors = 'none', edgecolors = 'black')\n",
    "ax.set(ylim=(0,1),xlim = (0.01,10), ylabel='Growth rate (relative to R1158)', xlabel = r'Doxycycline ($\\mu$g/ml)')\n",
    "plt.savefig('Eroconcs.svg')\n",
    "plt.show()"
   ]
  },
  {
   "cell_type": "code",
   "execution_count": 8,
   "metadata": {
    "collapsed": true
   },
   "outputs": [],
   "source": [
    "raw1 = pd.read_csv('181002 TetERO1.csv')\n",
    "raw2 = pd.read_csv('181015 TetERO1.csv')"
   ]
  },
  {
   "cell_type": "code",
   "execution_count": 9,
   "metadata": {},
   "outputs": [
    {
     "data": {
      "text/html": [
       "<div>\n",
       "<style>\n",
       "    .dataframe thead tr:only-child th {\n",
       "        text-align: right;\n",
       "    }\n",
       "\n",
       "    .dataframe thead th {\n",
       "        text-align: left;\n",
       "    }\n",
       "\n",
       "    .dataframe tbody tr th {\n",
       "        vertical-align: top;\n",
       "    }\n",
       "</style>\n",
       "<table border=\"1\" class=\"dataframe\">\n",
       "  <thead>\n",
       "    <tr style=\"text-align: right;\">\n",
       "      <th></th>\n",
       "      <th>Sample</th>\n",
       "      <th>Row</th>\n",
       "      <th>Col</th>\n",
       "      <th>0</th>\n",
       "      <th>0.5</th>\n",
       "      <th>1</th>\n",
       "      <th>1.5</th>\n",
       "      <th>2</th>\n",
       "      <th>2.5</th>\n",
       "      <th>3</th>\n",
       "      <th>...</th>\n",
       "      <th>24</th>\n",
       "      <th>24.5</th>\n",
       "      <th>25</th>\n",
       "      <th>25.5</th>\n",
       "      <th>26</th>\n",
       "      <th>26.5</th>\n",
       "      <th>27</th>\n",
       "      <th>27.5</th>\n",
       "      <th>28</th>\n",
       "      <th>28.5</th>\n",
       "    </tr>\n",
       "  </thead>\n",
       "  <tbody>\n",
       "    <tr>\n",
       "      <th>0</th>\n",
       "      <td>R1158</td>\n",
       "      <td>A</td>\n",
       "      <td>1</td>\n",
       "      <td>0.347</td>\n",
       "      <td>0.144</td>\n",
       "      <td>0.157</td>\n",
       "      <td>0.162</td>\n",
       "      <td>0.184</td>\n",
       "      <td>0.198</td>\n",
       "      <td>0.227</td>\n",
       "      <td>...</td>\n",
       "      <td>2.479</td>\n",
       "      <td>2.512</td>\n",
       "      <td>2.539</td>\n",
       "      <td>2.532</td>\n",
       "      <td>2.549</td>\n",
       "      <td>2.546</td>\n",
       "      <td>2.568</td>\n",
       "      <td>2.590</td>\n",
       "      <td>2.559</td>\n",
       "      <td>2.614</td>\n",
       "    </tr>\n",
       "    <tr>\n",
       "      <th>1</th>\n",
       "      <td>Tet-ERO1</td>\n",
       "      <td>A</td>\n",
       "      <td>2</td>\n",
       "      <td>0.214</td>\n",
       "      <td>0.151</td>\n",
       "      <td>0.159</td>\n",
       "      <td>0.173</td>\n",
       "      <td>0.193</td>\n",
       "      <td>0.213</td>\n",
       "      <td>0.252</td>\n",
       "      <td>...</td>\n",
       "      <td>2.581</td>\n",
       "      <td>2.583</td>\n",
       "      <td>2.617</td>\n",
       "      <td>2.588</td>\n",
       "      <td>2.612</td>\n",
       "      <td>2.628</td>\n",
       "      <td>2.632</td>\n",
       "      <td>2.648</td>\n",
       "      <td>2.604</td>\n",
       "      <td>2.642</td>\n",
       "    </tr>\n",
       "    <tr>\n",
       "      <th>2</th>\n",
       "      <td>Tet-ERO1 + 0.03125</td>\n",
       "      <td>A</td>\n",
       "      <td>3</td>\n",
       "      <td>0.292</td>\n",
       "      <td>0.147</td>\n",
       "      <td>0.151</td>\n",
       "      <td>0.162</td>\n",
       "      <td>0.176</td>\n",
       "      <td>0.199</td>\n",
       "      <td>0.222</td>\n",
       "      <td>...</td>\n",
       "      <td>2.512</td>\n",
       "      <td>2.535</td>\n",
       "      <td>2.570</td>\n",
       "      <td>2.571</td>\n",
       "      <td>2.587</td>\n",
       "      <td>2.589</td>\n",
       "      <td>2.640</td>\n",
       "      <td>2.653</td>\n",
       "      <td>2.628</td>\n",
       "      <td>2.654</td>\n",
       "    </tr>\n",
       "    <tr>\n",
       "      <th>3</th>\n",
       "      <td>Tet-ERO1 + 0.0625</td>\n",
       "      <td>A</td>\n",
       "      <td>4</td>\n",
       "      <td>0.178</td>\n",
       "      <td>0.146</td>\n",
       "      <td>0.151</td>\n",
       "      <td>0.164</td>\n",
       "      <td>0.181</td>\n",
       "      <td>0.196</td>\n",
       "      <td>0.226</td>\n",
       "      <td>...</td>\n",
       "      <td>2.471</td>\n",
       "      <td>2.501</td>\n",
       "      <td>2.536</td>\n",
       "      <td>2.526</td>\n",
       "      <td>2.564</td>\n",
       "      <td>2.567</td>\n",
       "      <td>2.606</td>\n",
       "      <td>2.642</td>\n",
       "      <td>2.590</td>\n",
       "      <td>2.631</td>\n",
       "    </tr>\n",
       "    <tr>\n",
       "      <th>4</th>\n",
       "      <td>Tet-ERO1 + 0.125</td>\n",
       "      <td>A</td>\n",
       "      <td>5</td>\n",
       "      <td>0.175</td>\n",
       "      <td>0.154</td>\n",
       "      <td>0.164</td>\n",
       "      <td>0.168</td>\n",
       "      <td>0.186</td>\n",
       "      <td>0.206</td>\n",
       "      <td>0.228</td>\n",
       "      <td>...</td>\n",
       "      <td>2.262</td>\n",
       "      <td>2.290</td>\n",
       "      <td>2.335</td>\n",
       "      <td>2.373</td>\n",
       "      <td>2.398</td>\n",
       "      <td>2.405</td>\n",
       "      <td>2.428</td>\n",
       "      <td>2.464</td>\n",
       "      <td>2.455</td>\n",
       "      <td>2.493</td>\n",
       "    </tr>\n",
       "  </tbody>\n",
       "</table>\n",
       "<p>5 rows × 61 columns</p>\n",
       "</div>"
      ],
      "text/plain": [
       "               Sample Row  Col      0    0.5      1    1.5      2    2.5  \\\n",
       "0               R1158   A    1  0.347  0.144  0.157  0.162  0.184  0.198   \n",
       "1            Tet-ERO1   A    2  0.214  0.151  0.159  0.173  0.193  0.213   \n",
       "2  Tet-ERO1 + 0.03125   A    3  0.292  0.147  0.151  0.162  0.176  0.199   \n",
       "3   Tet-ERO1 + 0.0625   A    4  0.178  0.146  0.151  0.164  0.181  0.196   \n",
       "4    Tet-ERO1 + 0.125   A    5  0.175  0.154  0.164  0.168  0.186  0.206   \n",
       "\n",
       "       3  ...       24   24.5     25   25.5     26   26.5     27   27.5  \\\n",
       "0  0.227  ...    2.479  2.512  2.539  2.532  2.549  2.546  2.568  2.590   \n",
       "1  0.252  ...    2.581  2.583  2.617  2.588  2.612  2.628  2.632  2.648   \n",
       "2  0.222  ...    2.512  2.535  2.570  2.571  2.587  2.589  2.640  2.653   \n",
       "3  0.226  ...    2.471  2.501  2.536  2.526  2.564  2.567  2.606  2.642   \n",
       "4  0.228  ...    2.262  2.290  2.335  2.373  2.398  2.405  2.428  2.464   \n",
       "\n",
       "      28   28.5  \n",
       "0  2.559  2.614  \n",
       "1  2.604  2.642  \n",
       "2  2.628  2.654  \n",
       "3  2.590  2.631  \n",
       "4  2.455  2.493  \n",
       "\n",
       "[5 rows x 61 columns]"
      ]
     },
     "execution_count": 9,
     "metadata": {},
     "output_type": "execute_result"
    }
   ],
   "source": [
    "raw1.head()"
   ]
  },
  {
   "cell_type": "code",
   "execution_count": 87,
   "metadata": {
    "collapsed": true
   },
   "outputs": [],
   "source": [
    "# define the number last time point to use (the last time used in hours = end /2)\n",
    "end = 25\n",
    "#extract data for conditions of interest and average all data for that condition\n",
    "x = [float(i) for i in list(raw1.columns[4:end])]\n",
    "wt = raw2.loc[raw2['Sample'] == 'R1158'].iloc[:,4:end].mean()\n",
    "Tet0 = raw2.loc[raw2['Sample'] == 'Tet-ERO1'].iloc[:,4:end].mean()\n",
    "Tet125 = raw1.loc[raw1['Sample'] == 'Tet-ERO1 + 0.125'].iloc[:,4:end].mean()\n",
    "Tet500 = raw2.loc[raw2['Sample'] == 'Tet-ERO1 + 0.5'].iloc[:,4:end].mean()\n",
    "\n",
    "# normalise all growth curves to the same starting oD \n",
    "refoD = min(wt[0],Tet0[0],Tet125[0], Tet500[0])\n",
    "wt = wt - (wt[0] - refoD)\n",
    "Tet0 = Tet0 - (Tet0[0] - refoD)\n",
    "Tet125 = Tet125 - (Tet125[0] - refoD)\n",
    "Tet500 = Tet500 - (Tet500[0] - refoD)"
   ]
  },
  {
   "cell_type": "code",
   "execution_count": 108,
   "metadata": {},
   "outputs": [
    {
     "data": {
      "image/png": "[encoded data removed]",
      "text/plain": [
       "<matplotlib.figure.Figure at 0x7f4a96979320>"
      ]
     },
     "metadata": {
      "needs_background": "light"
     },
     "output_type": "display_data"
    }
   ],
   "source": [
    "plt.close()\n",
    "size = 30\n",
    "plt.scatter(x=x,y=wt, marker = 'o', c='black', s=size)\n",
    "plt.scatter(x=x,y=Tet0, marker = 'x', c='black', s=size)\n",
    "plt.scatter(x=x,y=Tet125, marker = '^', c='black', s=size)\n",
    "plt.scatter(x=x,y=Tet500, marker = 's', c='black', s=size)\n",
    "plt.yscale(\"log\")\n",
    "plt.ylim(0.1,10)\n",
    "rcParams['figure.figsize'] = 6,8\n",
    "plt.savefig('TetERO1.svg')\n",
    "plt.show()"
   ]
  },
  {
   "cell_type": "code",
   "execution_count": null,
   "metadata": {
    "collapsed": true
   },
   "outputs": [],
   "source": []
  },
  {
   "cell_type": "code",
   "execution_count": null,
   "metadata": {
    "collapsed": true
   },
   "outputs": [],
   "source": []
  }
 ],
 "metadata": {
  "kernelspec": {
   "display_name": "Python 3",
   "language": "python",
   "name": "python3"
  },
  "language_info": {
   "codemirror_mode": {
    "name": "ipython",
    "version": 3
   },
   "file_extension": ".py",
   "mimetype": "text/x-python",
   "name": "python",
   "nbconvert_exporter": "python",
   "pygments_lexer": "ipython3",
   "version": "3.6.6"
  }
 },
 "nbformat": 4,
 "nbformat_minor": 2
}
